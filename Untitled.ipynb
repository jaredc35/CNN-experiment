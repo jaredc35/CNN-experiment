{
 "cells": [
  {
   "cell_type": "code",
   "execution_count": 73,
   "id": "73b0502e-93bd-433f-a663-258567ae3e33",
   "metadata": {},
   "outputs": [],
   "source": [
    "import pandas as pd\n",
    "from pyspark.sql import SparkSession\n",
    "from pyspark.sql.types import *\n",
    "from pyspark import pandas as ps\n",
    "from pyspark.sql.functions import *\n"
   ]
  },
  {
   "cell_type": "code",
   "execution_count": 4,
   "id": "434c71d1-51f7-48ed-bed6-11423016a487",
   "metadata": {},
   "outputs": [
    {
     "name": "stderr",
     "output_type": "stream",
     "text": [
      "24/03/29 14:25:49 WARN Utils: Your hostname, JaredDesktop resolves to a loopback address: 127.0.1.1; using 172.21.107.249 instead (on interface eth0)\n",
      "24/03/29 14:25:49 WARN Utils: Set SPARK_LOCAL_IP if you need to bind to another address\n",
      "Setting default log level to \"WARN\".\n",
      "To adjust logging level use sc.setLogLevel(newLevel). For SparkR, use setLogLevel(newLevel).\n",
      "24/03/29 14:25:59 WARN NativeCodeLoader: Unable to load native-hadoop library for your platform... using builtin-java classes where applicable\n"
     ]
    }
   ],
   "source": [
    "df = pd.read_pickle(\"./homedata.p\")\n",
    "\n",
    "spark = SparkSession.builder.appName(\"RealEstateData\").getOrCreate()"
   ]
  },
  {
   "cell_type": "code",
   "execution_count": 9,
   "id": "ae42783e-599a-4278-a12f-a2c366698915",
   "metadata": {},
   "outputs": [
    {
     "name": "stdout",
     "output_type": "stream",
     "text": [
      "Index(['_id', 'property_id', 'list_date', 'description', 'location', 'photos',\n",
      "       'property_history', 'last_sold_price', 'last_sold_date', 'thumbnail',\n",
      "       'housing_set', 'price', 'url', 'property_status', 'street', 'city',\n",
      "       'state', 'zip', 'full_address', 'latitude', 'longitude', 'hoa_fee',\n",
      "       'property_type', 'beds', 'baths', 'stories', 'garage', 'lot_size',\n",
      "       'building_size', 'pool', 'year_built', 'listing_status',\n",
      "       'latest_tax_year', 'latest_taxes', 'last_update', 'last_modified',\n",
      "       'rent', 'rent_low', 'rent_high', 'rental_comps'],\n",
      "      dtype='object')\n"
     ]
    }
   ],
   "source": [
    "print (df.columns)"
   ]
  },
  {
   "cell_type": "code",
   "execution_count": null,
   "id": "ae0789f6-1ba2-4230-a7e8-a9cbaa50f0b1",
   "metadata": {},
   "outputs": [],
   "source": []
  },
  {
   "cell_type": "code",
   "execution_count": 38,
   "id": "eee0833a-cd7d-46f6-a590-6e8b71d7ff06",
   "metadata": {},
   "outputs": [
    {
     "name": "stdout",
     "output_type": "stream",
     "text": [
      "<class 'pandas.core.frame.DataFrame'>\n",
      "RangeIndex: 1070 entries, 0 to 1069\n",
      "Data columns (total 17 columns):\n",
      " #   Column         Non-Null Count  Dtype  \n",
      "---  ------         --------------  -----  \n",
      " 0   property_id    1070 non-null   object \n",
      " 1   housing_set    1070 non-null   object \n",
      " 2   price          1070 non-null   int64  \n",
      " 3   full_address   1070 non-null   object \n",
      " 4   latitude       1070 non-null   float64\n",
      " 5   longitude      1070 non-null   float64\n",
      " 6   hoa_fee        1069 non-null   float64\n",
      " 7   property_type  1070 non-null   object \n",
      " 8   beds           1070 non-null   int64  \n",
      " 9   baths          1070 non-null   object \n",
      " 10  stories        1070 non-null   int64  \n",
      " 11  garage         1070 non-null   int64  \n",
      " 12  lot_size       1070 non-null   int64  \n",
      " 13  building_size  1070 non-null   int64  \n",
      " 14  pool           1070 non-null   object \n",
      " 15  year_built     1070 non-null   int64  \n",
      " 16  rent           1067 non-null   float64\n",
      "dtypes: float64(4), int64(7), object(6)\n",
      "memory usage: 142.2+ KB\n"
     ]
    }
   ],
   "source": [
    "df_trimmed = df[[\"property_id\", \"housing_set\", \"price\", \"full_address\", \"latitude\", \"longitude\", \"hoa_fee\", \"property_type\", \"beds\", \"baths\", \"stories\", \"garage\", \"lot_size\", \"building_size\", \"pool\", \"year_built\", \"rent\"]]\n",
    "df_trimmed.info()"
   ]
  },
  {
   "cell_type": "code",
   "execution_count": 94,
   "id": "c0eb493e-2adf-4556-b476-6f7b51843374",
   "metadata": {},
   "outputs": [],
   "source": [
    "schema = StructType([StructField(\"property_id\", StringType(), True), \n",
    "                     StructField(\"housing_set\", StringType(), True),\n",
    "                     StructField(\"price\", IntegerType(), True),\n",
    "                     StructField(\"full_address\", StringType(), True),\n",
    "                     StructField(\"latitude\", DoubleType(), True),\n",
    "                     StructField(\"longitude\", DoubleType(), True),\n",
    "                     StructField(\"hoa_fee\", DoubleType(), True),\n",
    "                     StructField(\"property_type\", StringType(), True),\n",
    "                     StructField(\"beds\", FloatType(), True),\n",
    "                     StructField(\"baths\", FloatType(), True),\n",
    "                     StructField(\"stories\", IntegerType(), True),\n",
    "                     StructField(\"garage\", StringType(), True),\n",
    "                     StructField(\"lot_size\", IntegerType(), True),\n",
    "                     StructField(\"building_size\", IntegerType(), True),\n",
    "                     StructField(\"pool\", StringType(), True),\n",
    "                     StructField(\"year_build\", IntegerType(), True),\n",
    "                     StructField(\"rent\", DoubleType(), True)])"
   ]
  },
  {
   "cell_type": "code",
   "execution_count": 96,
   "id": "90052e84-4de1-47b9-bce4-1b8d3b412b2c",
   "metadata": {},
   "outputs": [],
   "source": [
    "\n",
    "df_spark = spark.createDataFrame(df_trimmed)"
   ]
  },
  {
   "cell_type": "code",
   "execution_count": 97,
   "id": "c3b66568-cb1f-45b2-90c9-785682324028",
   "metadata": {},
   "outputs": [
    {
     "name": "stdout",
     "output_type": "stream",
     "text": [
      "+-----------+-----------+------+--------------------+---------+-----------+-------+-------------+----+-----+-------+------+--------+-------------+-----+----------+------+\n",
      "|property_id|housing_set| price|        full_address| latitude|  longitude|hoa_fee|property_type|beds|baths|stories|garage|lot_size|building_size| pool|year_built|  rent|\n",
      "+-----------+-----------+------+--------------------+---------+-----------+-------+-------------+----+-----+-------+------+--------+-------------+-----+----------+------+\n",
      "| 1929496559|    Seattle|730000|1415 6th Ave N Ap...|47.631834|-122.345354|  987.0|        condo|   2|    2|      1|     2|   14157|         1237|false|      2002|2940.0|\n",
      "| 9079367159|    Seattle|899950|2116 3rd Ave N, S...| 47.63797|-122.351483|    0.0|single_family|   3|  2.5|      2|     0|     945|         1355|false|      2020|4140.0|\n",
      "+-----------+-----------+------+--------------------+---------+-----------+-------+-------------+----+-----+-------+------+--------+-------------+-----+----------+------+\n",
      "only showing top 2 rows\n",
      "\n"
     ]
    }
   ],
   "source": [
    "df_spark.show(2)"
   ]
  },
  {
   "cell_type": "code",
   "execution_count": 98,
   "id": "d5a0931f-b55d-49f0-b525-43a37b2c607a",
   "metadata": {},
   "outputs": [],
   "source": [
    "df_spark = df_spark.na.fill(0)"
   ]
  },
  {
   "cell_type": "code",
   "execution_count": 99,
   "id": "1e6fb3dc-5200-47b6-87e2-f9aa798845f0",
   "metadata": {},
   "outputs": [
    {
     "name": "stdout",
     "output_type": "stream",
     "text": [
      "+-------------+-----------------+\n",
      "|property_type|       avg(price)|\n",
      "+-------------+-----------------+\n",
      "| multi_family|838769.4285714285|\n",
      "|single_family|         784973.2|\n",
      "|    townhouse|755336.9202453988|\n",
      "|         land|         716250.0|\n",
      "|        condo|546840.0656660412|\n",
      "|    townhomes|         524950.0|\n",
      "+-------------+-----------------+\n",
      "\n"
     ]
    }
   ],
   "source": [
    "df_spark.select(\"full_address\", \"price\", \"property_type\").groupBy(\"property_type\").avg(\"price\").orderBy(\"avg(price)\", ascending=False).alias(\"Avg Price\").show()"
   ]
  },
  {
   "cell_type": "code",
   "execution_count": 89,
   "id": "13d9a067-0757-4947-84ff-533c8582ddae",
   "metadata": {},
   "outputs": [
    {
     "data": {
      "text/plain": [
       "DataFrame[summary: string, property_id: string, housing_set: string, price: string, full_address: string, latitude: string, longitude: string, hoa_fee: string, property_type: string, beds: string, baths: string, stories: string, garage: string, lot_size: string, building_size: string, pool: string, year_built: string, rent: string]"
      ]
     },
     "execution_count": 89,
     "metadata": {},
     "output_type": "execute_result"
    }
   ],
   "source": [
    "df_spark.describe()"
   ]
  },
  {
   "cell_type": "code",
   "execution_count": null,
   "id": "6f45dbe9-c085-4421-b797-a7b9ed53e303",
   "metadata": {},
   "outputs": [],
   "source": []
  }
 ],
 "metadata": {
  "kernelspec": {
   "display_name": "Python 3 (ipykernel)",
   "language": "python",
   "name": "python3"
  },
  "language_info": {
   "codemirror_mode": {
    "name": "ipython",
    "version": 3
   },
   "file_extension": ".py",
   "mimetype": "text/x-python",
   "name": "python",
   "nbconvert_exporter": "python",
   "pygments_lexer": "ipython3",
   "version": "3.10.12"
  }
 },
 "nbformat": 4,
 "nbformat_minor": 5
}
